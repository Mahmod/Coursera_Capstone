{
 "cells": [
  {
   "cell_type": "markdown",
   "metadata": {},
   "source": [
    "Segmenting and Clustering Neighbourhoods in Toronto\n",
    "============================"
   ]
  },
  {
   "cell_type": "markdown",
   "metadata": {},
   "source": [
    "Prerequisites\n",
    "------\n",
    "Ensure that you have installed `BeautifulSoup` package from pypi using the below command \n",
    "`pip install BeautifulSoup`\n",
    "\n",
    "Once BeautifulSoup is installed import all necessary libraries for the analyisis"
   ]
  },
  {
   "cell_type": "code",
   "execution_count": 1,
   "metadata": {},
   "outputs": [],
   "source": [
    "from bs4 import BeautifulSoup\n",
    "import pandas as pd\n",
    "import requests"
   ]
  },
  {
   "cell_type": "markdown",
   "metadata": {},
   "source": [
    "Get the html content from the wikipedia url given in the Assignment"
   ]
  },
  {
   "cell_type": "code",
   "execution_count": 2,
   "metadata": {},
   "outputs": [],
   "source": [
    "html = requests.get(\"https://en.wikipedia.org/wiki/List_of_postal_codes_of_Canada:_M\")\n",
    "soup=BeautifulSoup(html.content)\n",
    "table=soup.find('table')\n",
    "rows=table.findAll('tr')\n",
    "table_data={}\n",
    "ix=0\n",
    "for r in rows:\n",
    "    row_data=r.findAll('td')\n",
    "    if row_data:\n",
    "        #assume that there are only 3 columns\n",
    "        table_data.update({\n",
    "            ix:[\n",
    "                row_data[0].text, \n",
    "                row_data[1].text, \n",
    "                row_data[2].text.replace(\"\\n\",\"\"),\n",
    "            ]\n",
    "        })\n",
    "        ix+=1"
   ]
  },
  {
   "cell_type": "code",
   "execution_count": 3,
   "metadata": {},
   "outputs": [],
   "source": [
    "columns=['Postal Code', 'Borough', 'Neighbourhood']"
   ]
  },
  {
   "cell_type": "markdown",
   "metadata": {},
   "source": [
    "Create the dataframe from the initial data"
   ]
  },
  {
   "cell_type": "code",
   "execution_count": 4,
   "metadata": {},
   "outputs": [],
   "source": [
    "df = pd.DataFrame.from_dict(data=table_data, orient='index', columns=columns)"
   ]
  },
  {
   "cell_type": "code",
   "execution_count": 5,
   "metadata": {},
   "outputs": [
    {
     "data": {
      "text/html": [
       "<div>\n",
       "<style scoped>\n",
       "    .dataframe tbody tr th:only-of-type {\n",
       "        vertical-align: middle;\n",
       "    }\n",
       "\n",
       "    .dataframe tbody tr th {\n",
       "        vertical-align: top;\n",
       "    }\n",
       "\n",
       "    .dataframe thead th {\n",
       "        text-align: right;\n",
       "    }\n",
       "</style>\n",
       "<table border=\"1\" class=\"dataframe\">\n",
       "  <thead>\n",
       "    <tr style=\"text-align: right;\">\n",
       "      <th></th>\n",
       "      <th>Postal Code</th>\n",
       "      <th>Borough</th>\n",
       "      <th>Neighbourhood</th>\n",
       "    </tr>\n",
       "  </thead>\n",
       "  <tbody>\n",
       "    <tr>\n",
       "      <th>0</th>\n",
       "      <td>M1A</td>\n",
       "      <td>Not assigned</td>\n",
       "      <td>Not assigned</td>\n",
       "    </tr>\n",
       "    <tr>\n",
       "      <th>1</th>\n",
       "      <td>M2A</td>\n",
       "      <td>Not assigned</td>\n",
       "      <td>Not assigned</td>\n",
       "    </tr>\n",
       "    <tr>\n",
       "      <th>2</th>\n",
       "      <td>M3A</td>\n",
       "      <td>North York</td>\n",
       "      <td>Parkwoods</td>\n",
       "    </tr>\n",
       "    <tr>\n",
       "      <th>3</th>\n",
       "      <td>M4A</td>\n",
       "      <td>North York</td>\n",
       "      <td>Victoria Village</td>\n",
       "    </tr>\n",
       "    <tr>\n",
       "      <th>4</th>\n",
       "      <td>M5A</td>\n",
       "      <td>Downtown Toronto</td>\n",
       "      <td>Harbourfront</td>\n",
       "    </tr>\n",
       "  </tbody>\n",
       "</table>\n",
       "</div>"
      ],
      "text/plain": [
       "  Postal Code           Borough     Neighbourhood\n",
       "0         M1A      Not assigned      Not assigned\n",
       "1         M2A      Not assigned      Not assigned\n",
       "2         M3A        North York         Parkwoods\n",
       "3         M4A        North York  Victoria Village\n",
       "4         M5A  Downtown Toronto      Harbourfront"
      ]
     },
     "execution_count": 5,
     "metadata": {},
     "output_type": "execute_result"
    }
   ],
   "source": [
    "df.head()"
   ]
  },
  {
   "cell_type": "markdown",
   "metadata": {},
   "source": [
    "Clean up the dataframe and create a new data frame as per the given conditions in point No3 of the assignment"
   ]
  },
  {
   "cell_type": "code",
   "execution_count": 6,
   "metadata": {},
   "outputs": [],
   "source": [
    "new_data={}\n",
    "for index, row in df.iterrows():\n",
    "    if row['Borough']=='Not assigned':\n",
    "        continue\n",
    "    \n",
    "    if row['Neighbourhood']=='Not assigned':\n",
    "        row['Neighbourhood']=row['Borough']\n",
    "        \n",
    "    if row['Postal Code'] in new_data.keys():\n",
    "        if row['Neighbourhood'] not in new_data[row['Postal Code']][2]:\n",
    "            row['Neighbourhood'] = new_data[row['Postal Code']][2] + \" , \" + row['Neighbourhood']\n",
    "        \n",
    "    new_data.update({\n",
    "        row['Postal Code']: [row[0],row[1],row[2]]\n",
    "    })\n",
    "    \n",
    "# steps to create dictionary for the DataFrame\n",
    "new_data_new={}\n",
    "xcount=0\n",
    "for i in new_data.keys():\n",
    "    new_data_new.update({\n",
    "        xcount: new_data[i]\n",
    "    })\n",
    "    xcount+=1\n",
    "new_df=pd.DataFrame.from_dict(data=new_data_new, orient='index', columns=columns)"
   ]
  },
  {
   "cell_type": "code",
   "execution_count": 7,
   "metadata": {},
   "outputs": [
    {
     "data": {
      "text/html": [
       "<div>\n",
       "<style scoped>\n",
       "    .dataframe tbody tr th:only-of-type {\n",
       "        vertical-align: middle;\n",
       "    }\n",
       "\n",
       "    .dataframe tbody tr th {\n",
       "        vertical-align: top;\n",
       "    }\n",
       "\n",
       "    .dataframe thead th {\n",
       "        text-align: right;\n",
       "    }\n",
       "</style>\n",
       "<table border=\"1\" class=\"dataframe\">\n",
       "  <thead>\n",
       "    <tr style=\"text-align: right;\">\n",
       "      <th></th>\n",
       "      <th>Postal Code</th>\n",
       "      <th>Borough</th>\n",
       "      <th>Neighbourhood</th>\n",
       "    </tr>\n",
       "  </thead>\n",
       "  <tbody>\n",
       "    <tr>\n",
       "      <th>0</th>\n",
       "      <td>M3A</td>\n",
       "      <td>North York</td>\n",
       "      <td>Parkwoods</td>\n",
       "    </tr>\n",
       "    <tr>\n",
       "      <th>1</th>\n",
       "      <td>M4A</td>\n",
       "      <td>North York</td>\n",
       "      <td>Victoria Village</td>\n",
       "    </tr>\n",
       "    <tr>\n",
       "      <th>2</th>\n",
       "      <td>M5A</td>\n",
       "      <td>Downtown Toronto</td>\n",
       "      <td>Harbourfront , Regent Park</td>\n",
       "    </tr>\n",
       "    <tr>\n",
       "      <th>3</th>\n",
       "      <td>M6A</td>\n",
       "      <td>North York</td>\n",
       "      <td>Lawrence Heights , Lawrence Manor</td>\n",
       "    </tr>\n",
       "    <tr>\n",
       "      <th>4</th>\n",
       "      <td>M7A</td>\n",
       "      <td>Queen's Park</td>\n",
       "      <td>Queen's Park</td>\n",
       "    </tr>\n",
       "  </tbody>\n",
       "</table>\n",
       "</div>"
      ],
      "text/plain": [
       "  Postal Code           Borough                      Neighbourhood\n",
       "0         M3A        North York                          Parkwoods\n",
       "1         M4A        North York                   Victoria Village\n",
       "2         M5A  Downtown Toronto         Harbourfront , Regent Park\n",
       "3         M6A        North York  Lawrence Heights , Lawrence Manor\n",
       "4         M7A      Queen's Park                       Queen's Park"
      ]
     },
     "execution_count": 7,
     "metadata": {},
     "output_type": "execute_result"
    }
   ],
   "source": [
    "new_df.head()"
   ]
  },
  {
   "cell_type": "code",
   "execution_count": 8,
   "metadata": {},
   "outputs": [
    {
     "data": {
      "text/plain": [
       "(103, 3)"
      ]
     },
     "execution_count": 8,
     "metadata": {},
     "output_type": "execute_result"
    }
   ],
   "source": [
    "new_df.shape"
   ]
  },
  {
   "cell_type": "code",
   "execution_count": 9,
   "metadata": {},
   "outputs": [],
   "source": [
    "import geocoder"
   ]
  },
  {
   "cell_type": "code",
   "execution_count": 10,
   "metadata": {},
   "outputs": [],
   "source": [
    "def get_lat_long(postal_code, neighbourhood):\n",
    "    latlng_coords=None\n",
    "    while (latlng_coords is None):\n",
    "        g=geocoder.google('{}, {}'.format(postal_code, neighbourhood))\n",
    "        latlng_coords= g.latlng\n",
    "        \n",
    "    return latlng_coords"
   ]
  },
  {
   "cell_type": "code",
   "execution_count": 11,
   "metadata": {},
   "outputs": [],
   "source": [
    "# Not reliable get_lat_long('M5G','Harbourfront , Regent Park')"
   ]
  },
  {
   "cell_type": "markdown",
   "metadata": {},
   "source": [
    "As the Method written above is not reliable to fe"
   ]
  },
  {
   "cell_type": "code",
   "execution_count": 12,
   "metadata": {},
   "outputs": [],
   "source": [
    "latlng_coords=pd.read_csv('Geospatial_Coordinates.csv')"
   ]
  },
  {
   "cell_type": "code",
   "execution_count": 13,
   "metadata": {},
   "outputs": [
    {
     "data": {
      "text/html": [
       "<div>\n",
       "<style scoped>\n",
       "    .dataframe tbody tr th:only-of-type {\n",
       "        vertical-align: middle;\n",
       "    }\n",
       "\n",
       "    .dataframe tbody tr th {\n",
       "        vertical-align: top;\n",
       "    }\n",
       "\n",
       "    .dataframe thead th {\n",
       "        text-align: right;\n",
       "    }\n",
       "</style>\n",
       "<table border=\"1\" class=\"dataframe\">\n",
       "  <thead>\n",
       "    <tr style=\"text-align: right;\">\n",
       "      <th></th>\n",
       "      <th>Postal Code</th>\n",
       "      <th>Latitude</th>\n",
       "      <th>Longitude</th>\n",
       "    </tr>\n",
       "  </thead>\n",
       "  <tbody>\n",
       "    <tr>\n",
       "      <th>0</th>\n",
       "      <td>M1B</td>\n",
       "      <td>43.806686</td>\n",
       "      <td>-79.194353</td>\n",
       "    </tr>\n",
       "    <tr>\n",
       "      <th>1</th>\n",
       "      <td>M1C</td>\n",
       "      <td>43.784535</td>\n",
       "      <td>-79.160497</td>\n",
       "    </tr>\n",
       "    <tr>\n",
       "      <th>2</th>\n",
       "      <td>M1E</td>\n",
       "      <td>43.763573</td>\n",
       "      <td>-79.188711</td>\n",
       "    </tr>\n",
       "    <tr>\n",
       "      <th>3</th>\n",
       "      <td>M1G</td>\n",
       "      <td>43.770992</td>\n",
       "      <td>-79.216917</td>\n",
       "    </tr>\n",
       "    <tr>\n",
       "      <th>4</th>\n",
       "      <td>M1H</td>\n",
       "      <td>43.773136</td>\n",
       "      <td>-79.239476</td>\n",
       "    </tr>\n",
       "  </tbody>\n",
       "</table>\n",
       "</div>"
      ],
      "text/plain": [
       "  Postal Code   Latitude  Longitude\n",
       "0         M1B  43.806686 -79.194353\n",
       "1         M1C  43.784535 -79.160497\n",
       "2         M1E  43.763573 -79.188711\n",
       "3         M1G  43.770992 -79.216917\n",
       "4         M1H  43.773136 -79.239476"
      ]
     },
     "execution_count": 13,
     "metadata": {},
     "output_type": "execute_result"
    }
   ],
   "source": [
    "latlng_coords.head()"
   ]
  },
  {
   "cell_type": "code",
   "execution_count": 14,
   "metadata": {},
   "outputs": [
    {
     "data": {
      "text/plain": [
       "(103, 3)"
      ]
     },
     "execution_count": 14,
     "metadata": {},
     "output_type": "execute_result"
    }
   ],
   "source": [
    "latlng_coords.shape"
   ]
  },
  {
   "cell_type": "code",
   "execution_count": 15,
   "metadata": {},
   "outputs": [],
   "source": [
    "combined_df=pd.merge(new_df,latlng_coords,on='Postal Code')"
   ]
  },
  {
   "cell_type": "code",
   "execution_count": 16,
   "metadata": {},
   "outputs": [
    {
     "data": {
      "text/html": [
       "<div>\n",
       "<style scoped>\n",
       "    .dataframe tbody tr th:only-of-type {\n",
       "        vertical-align: middle;\n",
       "    }\n",
       "\n",
       "    .dataframe tbody tr th {\n",
       "        vertical-align: top;\n",
       "    }\n",
       "\n",
       "    .dataframe thead th {\n",
       "        text-align: right;\n",
       "    }\n",
       "</style>\n",
       "<table border=\"1\" class=\"dataframe\">\n",
       "  <thead>\n",
       "    <tr style=\"text-align: right;\">\n",
       "      <th></th>\n",
       "      <th>Postal Code</th>\n",
       "      <th>Borough</th>\n",
       "      <th>Neighbourhood</th>\n",
       "      <th>Latitude</th>\n",
       "      <th>Longitude</th>\n",
       "    </tr>\n",
       "  </thead>\n",
       "  <tbody>\n",
       "    <tr>\n",
       "      <th>0</th>\n",
       "      <td>M3A</td>\n",
       "      <td>North York</td>\n",
       "      <td>Parkwoods</td>\n",
       "      <td>43.753259</td>\n",
       "      <td>-79.329656</td>\n",
       "    </tr>\n",
       "    <tr>\n",
       "      <th>1</th>\n",
       "      <td>M4A</td>\n",
       "      <td>North York</td>\n",
       "      <td>Victoria Village</td>\n",
       "      <td>43.725882</td>\n",
       "      <td>-79.315572</td>\n",
       "    </tr>\n",
       "    <tr>\n",
       "      <th>2</th>\n",
       "      <td>M5A</td>\n",
       "      <td>Downtown Toronto</td>\n",
       "      <td>Harbourfront , Regent Park</td>\n",
       "      <td>43.654260</td>\n",
       "      <td>-79.360636</td>\n",
       "    </tr>\n",
       "    <tr>\n",
       "      <th>3</th>\n",
       "      <td>M6A</td>\n",
       "      <td>North York</td>\n",
       "      <td>Lawrence Heights , Lawrence Manor</td>\n",
       "      <td>43.718518</td>\n",
       "      <td>-79.464763</td>\n",
       "    </tr>\n",
       "    <tr>\n",
       "      <th>4</th>\n",
       "      <td>M7A</td>\n",
       "      <td>Queen's Park</td>\n",
       "      <td>Queen's Park</td>\n",
       "      <td>43.662301</td>\n",
       "      <td>-79.389494</td>\n",
       "    </tr>\n",
       "  </tbody>\n",
       "</table>\n",
       "</div>"
      ],
      "text/plain": [
       "  Postal Code           Borough                      Neighbourhood   Latitude  \\\n",
       "0         M3A        North York                          Parkwoods  43.753259   \n",
       "1         M4A        North York                   Victoria Village  43.725882   \n",
       "2         M5A  Downtown Toronto         Harbourfront , Regent Park  43.654260   \n",
       "3         M6A        North York  Lawrence Heights , Lawrence Manor  43.718518   \n",
       "4         M7A      Queen's Park                       Queen's Park  43.662301   \n",
       "\n",
       "   Longitude  \n",
       "0 -79.329656  \n",
       "1 -79.315572  \n",
       "2 -79.360636  \n",
       "3 -79.464763  \n",
       "4 -79.389494  "
      ]
     },
     "execution_count": 16,
     "metadata": {},
     "output_type": "execute_result"
    }
   ],
   "source": [
    "combined_df.head()"
   ]
  },
  {
   "cell_type": "markdown",
   "metadata": {},
   "source": [
    "Submission 3 for Week3 Assignment\n",
    "------------------"
   ]
  },
  {
   "cell_type": "markdown",
   "metadata": {},
   "source": [
    "slice the original dataframe with only with Toronto in Borough"
   ]
  },
  {
   "cell_type": "code",
   "execution_count": 17,
   "metadata": {},
   "outputs": [
    {
     "data": {
      "text/html": [
       "<div>\n",
       "<style scoped>\n",
       "    .dataframe tbody tr th:only-of-type {\n",
       "        vertical-align: middle;\n",
       "    }\n",
       "\n",
       "    .dataframe tbody tr th {\n",
       "        vertical-align: top;\n",
       "    }\n",
       "\n",
       "    .dataframe thead th {\n",
       "        text-align: right;\n",
       "    }\n",
       "</style>\n",
       "<table border=\"1\" class=\"dataframe\">\n",
       "  <thead>\n",
       "    <tr style=\"text-align: right;\">\n",
       "      <th></th>\n",
       "      <th>Postal Code</th>\n",
       "      <th>Borough</th>\n",
       "      <th>Neighbourhood</th>\n",
       "      <th>Latitude</th>\n",
       "      <th>Longitude</th>\n",
       "    </tr>\n",
       "  </thead>\n",
       "  <tbody>\n",
       "    <tr>\n",
       "      <th>0</th>\n",
       "      <td>M5A</td>\n",
       "      <td>Downtown Toronto</td>\n",
       "      <td>Harbourfront , Regent Park</td>\n",
       "      <td>43.654260</td>\n",
       "      <td>-79.360636</td>\n",
       "    </tr>\n",
       "    <tr>\n",
       "      <th>1</th>\n",
       "      <td>M5B</td>\n",
       "      <td>Downtown Toronto</td>\n",
       "      <td>Ryerson , Garden District</td>\n",
       "      <td>43.657162</td>\n",
       "      <td>-79.378937</td>\n",
       "    </tr>\n",
       "    <tr>\n",
       "      <th>2</th>\n",
       "      <td>M5C</td>\n",
       "      <td>Downtown Toronto</td>\n",
       "      <td>St. James Town</td>\n",
       "      <td>43.651494</td>\n",
       "      <td>-79.375418</td>\n",
       "    </tr>\n",
       "    <tr>\n",
       "      <th>3</th>\n",
       "      <td>M4E</td>\n",
       "      <td>East Toronto</td>\n",
       "      <td>The Beaches</td>\n",
       "      <td>43.676357</td>\n",
       "      <td>-79.293031</td>\n",
       "    </tr>\n",
       "    <tr>\n",
       "      <th>4</th>\n",
       "      <td>M5E</td>\n",
       "      <td>Downtown Toronto</td>\n",
       "      <td>Berczy Park</td>\n",
       "      <td>43.644771</td>\n",
       "      <td>-79.373306</td>\n",
       "    </tr>\n",
       "  </tbody>\n",
       "</table>\n",
       "</div>"
      ],
      "text/plain": [
       "  Postal Code           Borough               Neighbourhood   Latitude  \\\n",
       "0         M5A  Downtown Toronto  Harbourfront , Regent Park  43.654260   \n",
       "1         M5B  Downtown Toronto   Ryerson , Garden District  43.657162   \n",
       "2         M5C  Downtown Toronto              St. James Town  43.651494   \n",
       "3         M4E      East Toronto                 The Beaches  43.676357   \n",
       "4         M5E  Downtown Toronto                 Berczy Park  43.644771   \n",
       "\n",
       "   Longitude  \n",
       "0 -79.360636  \n",
       "1 -79.378937  \n",
       "2 -79.375418  \n",
       "3 -79.293031  \n",
       "4 -79.373306  "
      ]
     },
     "execution_count": 17,
     "metadata": {},
     "output_type": "execute_result"
    }
   ],
   "source": [
    "toronto_data = combined_df[combined_df['Borough'].str.contains('Toronto')].reset_index(drop=True)\n",
    "toronto_data.head()"
   ]
  },
  {
   "cell_type": "markdown",
   "metadata": {},
   "source": [
    "Let us create the base map with Toronto as the address"
   ]
  },
  {
   "cell_type": "code",
   "execution_count": 18,
   "metadata": {},
   "outputs": [
    {
     "name": "stdout",
     "output_type": "stream",
     "text": [
      "The geograpical coordinate of Toronto are 43.653963, -79.387207.\n"
     ]
    }
   ],
   "source": [
    "from geopy.geocoders import Nominatim # convert an address into latitude and longitude values\n",
    "address='Toronto, Canada'\n",
    "geolocator = Nominatim(user_agent=\"toronto_explorer\")\n",
    "location = geolocator.geocode(address)\n",
    "latitude = location.latitude\n",
    "longitude = location.longitude\n",
    "print('The geograpical coordinate of Toronto are {}, {}.'.format(latitude, longitude))"
   ]
  },
  {
   "cell_type": "markdown",
   "metadata": {},
   "source": [
    "Let us visualize the neighbourhoods in Toronto"
   ]
  },
  {
   "cell_type": "code",
   "execution_count": 19,
   "metadata": {},
   "outputs": [
    {
     "data": {
      "text/html": [
       "<div style=\"width:100%;\"><div style=\"position:relative;width:100%;height:0;padding-bottom:60%;\"><iframe src=\"data:text/html;charset=utf-8;base64,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\" style=\"position:absolute;width:100%;height:100%;left:0;top:0;border:none !important;\" allowfullscreen webkitallowfullscreen mozallowfullscreen></iframe></div></div>"
      ],
      "text/plain": [
       "<folium.folium.Map at 0x1f9f66c4198>"
      ]
     },
     "execution_count": 19,
     "metadata": {},
     "output_type": "execute_result"
    }
   ],
   "source": [
    "# create map of Toronto using latitude and longitude values\n",
    "import folium\n",
    "map_toronto = folium.Map(location=[latitude, longitude], zoom_start=11)\n",
    "\n",
    "# add markers to map\n",
    "for lat, lng, label in zip(toronto_data['Latitude'], toronto_data['Longitude'], toronto_data['Neighbourhood']):\n",
    "    label = folium.Popup(label)\n",
    "    folium.CircleMarker(\n",
    "        [lat, lng],\n",
    "        radius=5,\n",
    "        popup=label,\n",
    "        color='blue',\n",
    "        fill=True,\n",
    "        fill_color='#3186cc',\n",
    "        fill_opacity=0.7).add_to(map_toronto)  \n",
    "    \n",
    "map_toronto"
   ]
  }
 ],
 "metadata": {
  "kernelspec": {
   "display_name": "Python 3",
   "language": "python",
   "name": "python3"
  },
  "language_info": {
   "codemirror_mode": {
    "name": "ipython",
    "version": 3
   },
   "file_extension": ".py",
   "mimetype": "text/x-python",
   "name": "python",
   "nbconvert_exporter": "python",
   "pygments_lexer": "ipython3",
   "version": "3.7.3"
  }
 },
 "nbformat": 4,
 "nbformat_minor": 2
}
